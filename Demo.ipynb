{
  "nbformat": 4,
  "nbformat_minor": 0,
  "metadata": {
    "colab": {
      "provenance": []
    },
    "kernelspec": {
      "name": "python3",
      "display_name": "Python 3"
    },
    "language_info": {
      "name": "python"
    }
  },
  "cells": [
    {
      "cell_type": "code",
      "execution_count": 4,
      "metadata": {
        "colab": {
          "base_uri": "https://localhost:8080/"
        },
        "id": "Vf3Z06zIJLq-",
        "outputId": "c739ca5e-d2da-4082-db2f-cf8bd6b3d3b0"
      },
      "outputs": [
        {
          "output_type": "stream",
          "name": "stdout",
          "text": [
            "Requirement already satisfied: langchain in /usr/local/lib/python3.10/dist-packages (0.2.11)\n",
            "Requirement already satisfied: langchain_core in /usr/local/lib/python3.10/dist-packages (0.2.24)\n",
            "Requirement already satisfied: langchain_community in /usr/local/lib/python3.10/dist-packages (0.2.10)\n",
            "Requirement already satisfied: langchain_openai in /usr/local/lib/python3.10/dist-packages (0.1.19)\n",
            "Collecting langgraph\n",
            "  Downloading langgraph-0.1.15-py3-none-any.whl.metadata (13 kB)\n",
            "Requirement already satisfied: PyYAML>=5.3 in /usr/local/lib/python3.10/dist-packages (from langchain) (6.0.1)\n",
            "Requirement already satisfied: SQLAlchemy<3,>=1.4 in /usr/local/lib/python3.10/dist-packages (from langchain) (2.0.31)\n",
            "Requirement already satisfied: aiohttp<4.0.0,>=3.8.3 in /usr/local/lib/python3.10/dist-packages (from langchain) (3.9.5)\n",
            "Requirement already satisfied: async-timeout<5.0.0,>=4.0.0 in /usr/local/lib/python3.10/dist-packages (from langchain) (4.0.3)\n",
            "Requirement already satisfied: langchain-text-splitters<0.3.0,>=0.2.0 in /usr/local/lib/python3.10/dist-packages (from langchain) (0.2.2)\n",
            "Requirement already satisfied: langsmith<0.2.0,>=0.1.17 in /usr/local/lib/python3.10/dist-packages (from langchain) (0.1.93)\n",
            "Requirement already satisfied: numpy<2,>=1 in /usr/local/lib/python3.10/dist-packages (from langchain) (1.25.2)\n",
            "Requirement already satisfied: pydantic<3,>=1 in /usr/local/lib/python3.10/dist-packages (from langchain) (2.8.2)\n",
            "Requirement already satisfied: requests<3,>=2 in /usr/local/lib/python3.10/dist-packages (from langchain) (2.31.0)\n",
            "Requirement already satisfied: tenacity!=8.4.0,<9.0.0,>=8.1.0 in /usr/local/lib/python3.10/dist-packages (from langchain) (8.5.0)\n",
            "Requirement already satisfied: jsonpatch<2.0,>=1.33 in /usr/local/lib/python3.10/dist-packages (from langchain_core) (1.33)\n",
            "Requirement already satisfied: packaging<25,>=23.2 in /usr/local/lib/python3.10/dist-packages (from langchain_core) (24.1)\n",
            "Requirement already satisfied: dataclasses-json<0.7,>=0.5.7 in /usr/local/lib/python3.10/dist-packages (from langchain_community) (0.6.7)\n",
            "Requirement already satisfied: openai<2.0.0,>=1.32.0 in /usr/local/lib/python3.10/dist-packages (from langchain_openai) (1.37.1)\n",
            "Requirement already satisfied: tiktoken<1,>=0.7 in /usr/local/lib/python3.10/dist-packages (from langchain_openai) (0.7.0)\n",
            "Requirement already satisfied: aiosignal>=1.1.2 in /usr/local/lib/python3.10/dist-packages (from aiohttp<4.0.0,>=3.8.3->langchain) (1.3.1)\n",
            "Requirement already satisfied: attrs>=17.3.0 in /usr/local/lib/python3.10/dist-packages (from aiohttp<4.0.0,>=3.8.3->langchain) (23.2.0)\n",
            "Requirement already satisfied: frozenlist>=1.1.1 in /usr/local/lib/python3.10/dist-packages (from aiohttp<4.0.0,>=3.8.3->langchain) (1.4.1)\n",
            "Requirement already satisfied: multidict<7.0,>=4.5 in /usr/local/lib/python3.10/dist-packages (from aiohttp<4.0.0,>=3.8.3->langchain) (6.0.5)\n",
            "Requirement already satisfied: yarl<2.0,>=1.0 in /usr/local/lib/python3.10/dist-packages (from aiohttp<4.0.0,>=3.8.3->langchain) (1.9.4)\n",
            "Requirement already satisfied: marshmallow<4.0.0,>=3.18.0 in /usr/local/lib/python3.10/dist-packages (from dataclasses-json<0.7,>=0.5.7->langchain_community) (3.21.3)\n",
            "Requirement already satisfied: typing-inspect<1,>=0.4.0 in /usr/local/lib/python3.10/dist-packages (from dataclasses-json<0.7,>=0.5.7->langchain_community) (0.9.0)\n",
            "Requirement already satisfied: jsonpointer>=1.9 in /usr/local/lib/python3.10/dist-packages (from jsonpatch<2.0,>=1.33->langchain_core) (3.0.0)\n",
            "Requirement already satisfied: orjson<4.0.0,>=3.9.14 in /usr/local/lib/python3.10/dist-packages (from langsmith<0.2.0,>=0.1.17->langchain) (3.10.6)\n",
            "Requirement already satisfied: anyio<5,>=3.5.0 in /usr/local/lib/python3.10/dist-packages (from openai<2.0.0,>=1.32.0->langchain_openai) (3.7.1)\n",
            "Requirement already satisfied: distro<2,>=1.7.0 in /usr/lib/python3/dist-packages (from openai<2.0.0,>=1.32.0->langchain_openai) (1.7.0)\n",
            "Requirement already satisfied: httpx<1,>=0.23.0 in /usr/local/lib/python3.10/dist-packages (from openai<2.0.0,>=1.32.0->langchain_openai) (0.27.0)\n",
            "Requirement already satisfied: sniffio in /usr/local/lib/python3.10/dist-packages (from openai<2.0.0,>=1.32.0->langchain_openai) (1.3.1)\n",
            "Requirement already satisfied: tqdm>4 in /usr/local/lib/python3.10/dist-packages (from openai<2.0.0,>=1.32.0->langchain_openai) (4.66.4)\n",
            "Requirement already satisfied: typing-extensions<5,>=4.7 in /usr/local/lib/python3.10/dist-packages (from openai<2.0.0,>=1.32.0->langchain_openai) (4.12.2)\n",
            "Requirement already satisfied: annotated-types>=0.4.0 in /usr/local/lib/python3.10/dist-packages (from pydantic<3,>=1->langchain) (0.7.0)\n",
            "Requirement already satisfied: pydantic-core==2.20.1 in /usr/local/lib/python3.10/dist-packages (from pydantic<3,>=1->langchain) (2.20.1)\n",
            "Requirement already satisfied: charset-normalizer<4,>=2 in /usr/local/lib/python3.10/dist-packages (from requests<3,>=2->langchain) (3.3.2)\n",
            "Requirement already satisfied: idna<4,>=2.5 in /usr/local/lib/python3.10/dist-packages (from requests<3,>=2->langchain) (3.7)\n",
            "Requirement already satisfied: urllib3<3,>=1.21.1 in /usr/local/lib/python3.10/dist-packages (from requests<3,>=2->langchain) (2.0.7)\n",
            "Requirement already satisfied: certifi>=2017.4.17 in /usr/local/lib/python3.10/dist-packages (from requests<3,>=2->langchain) (2024.7.4)\n",
            "Requirement already satisfied: greenlet!=0.4.17 in /usr/local/lib/python3.10/dist-packages (from SQLAlchemy<3,>=1.4->langchain) (3.0.3)\n",
            "Requirement already satisfied: regex>=2022.1.18 in /usr/local/lib/python3.10/dist-packages (from tiktoken<1,>=0.7->langchain_openai) (2024.5.15)\n",
            "Requirement already satisfied: exceptiongroup in /usr/local/lib/python3.10/dist-packages (from anyio<5,>=3.5.0->openai<2.0.0,>=1.32.0->langchain_openai) (1.2.2)\n",
            "Requirement already satisfied: httpcore==1.* in /usr/local/lib/python3.10/dist-packages (from httpx<1,>=0.23.0->openai<2.0.0,>=1.32.0->langchain_openai) (1.0.5)\n",
            "Requirement already satisfied: h11<0.15,>=0.13 in /usr/local/lib/python3.10/dist-packages (from httpcore==1.*->httpx<1,>=0.23.0->openai<2.0.0,>=1.32.0->langchain_openai) (0.14.0)\n",
            "Requirement already satisfied: mypy-extensions>=0.3.0 in /usr/local/lib/python3.10/dist-packages (from typing-inspect<1,>=0.4.0->dataclasses-json<0.7,>=0.5.7->langchain_community) (1.0.0)\n",
            "Downloading langgraph-0.1.15-py3-none-any.whl (102 kB)\n",
            "\u001b[2K   \u001b[90m━━━━━━━━━━━━━━━━━━━━━━━━━━━━━━━━━━━━━━━━\u001b[0m \u001b[32m102.6/102.6 kB\u001b[0m \u001b[31m4.8 MB/s\u001b[0m eta \u001b[36m0:00:00\u001b[0m\n",
            "\u001b[?25hInstalling collected packages: langgraph\n",
            "Successfully installed langgraph-0.1.15\n"
          ]
        }
      ],
      "source": [
        "!pip install langchain langchain_core langchain_community langchain_openai langgraph"
      ]
    },
    {
      "cell_type": "code",
      "source": [
        "import operator\n",
        "from typing import Annotated, TypedDict\n",
        "from langchain_core.pydantic_v1 import BaseModel\n",
        "from langchain_openai import ChatOpenAI\n",
        "from langgraph.constants import Send\n",
        "from langgraph.graph import END, StateGraph, START"
      ],
      "metadata": {
        "id": "d3_a6WEmKPQ7"
      },
      "execution_count": 5,
      "outputs": []
    },
    {
      "cell_type": "code",
      "source": [
        "from google.colab import userdata\n",
        "import os"
      ],
      "metadata": {
        "id": "DlY2SFYgKXAB"
      },
      "execution_count": 6,
      "outputs": []
    },
    {
      "cell_type": "code",
      "source": [
        "os.environ['OPENAI_API_KEY'] = userdata.get('OPENAI_API_KEY')"
      ],
      "metadata": {
        "id": "y4XgHP6IKk8j"
      },
      "execution_count": 7,
      "outputs": []
    },
    {
      "cell_type": "code",
      "source": [
        "model = ChatOpenAI(model=\"gpt-4o-mini\")"
      ],
      "metadata": {
        "id": "3_GsyYVGKv_X"
      },
      "execution_count": 8,
      "outputs": []
    },
    {
      "cell_type": "code",
      "source": [
        "# Define the prompts\n",
        "step1_prompt = \"\"\"Step 1: I have a problem related to {input}.\n",
        "Could you brainstorm three distinct solutions?\n",
        "Please consider a variety of factors such as {perfect_factors}\"\"\"\n",
        "\n",
        "step2_prompt = \"\"\"Step 2: For each of the three proposed solutions, evaluate their potential.\n",
        "Consider their pros and cons, initial effort needed, implementation difficulty, potential challenges,\n",
        "and the expected outcomes. Assign a probability of success and a confidence level\n",
        "to each option based on these factors.\n",
        "\n",
        "Solutions:\n",
        "{solutions}\"\"\"\n",
        "\n",
        "step3_prompt = \"\"\"Step 3: For each solution, deepen the thought process.\n",
        "Generate potential scenarios, strategies for implementation, any necessary partnerships or resources,\n",
        "and how potential obstacles might be overcome. Also, consider any potential unexpected outcomes\n",
        "and how they might be handled.\n",
        "\n",
        "Evaluation:\n",
        "{review}\"\"\"\n",
        "\n",
        "step4_prompt = \"\"\"Step 4: Based on the evaluations and scenarios,\n",
        "rank the solutions in order of promise. Provide a justification for each ranking\n",
        "and offer any final thoughts or considerations for each solution.\n",
        "\n",
        "Detailed analysis:\n",
        "{deepen_thought_process}\"\"\""
      ],
      "metadata": {
        "id": "ySqctD_vK4Tp"
      },
      "execution_count": 9,
      "outputs": []
    },
    {
      "cell_type": "code",
      "source": [
        "# Define the output structures\n",
        "class Solutions(BaseModel):\n",
        "    solutions: list[str]\n",
        "\n",
        "class Review(BaseModel):\n",
        "    review: str\n",
        "\n",
        "class DeepThought(BaseModel):\n",
        "    deep_thought: str\n",
        "\n",
        "class RankedSolutions(BaseModel):\n",
        "    ranked_solutions: str\n",
        "\n",
        "# Define the overall state\n",
        "class OverallState(TypedDict):\n",
        "    input: str\n",
        "    perfect_factors: str\n",
        "    solutions: Annotated[list[str], operator.add]\n",
        "    reviews: Annotated[list[str], operator.add]\n",
        "    deep_thoughts: Annotated[list[str], operator.add]\n",
        "    ranked_solutions: str\n",
        "\n",
        "# Define the state for individual solution processing\n",
        "class SolutionState(TypedDict):\n",
        "    solution: str"
      ],
      "metadata": {
        "id": "kODpkdOWLMXQ"
      },
      "execution_count": 10,
      "outputs": []
    },
    {
      "cell_type": "code",
      "source": [
        "# Graph components\n",
        "def generate_solutions(state: OverallState):\n",
        "    prompt = step1_prompt.format(input=state[\"input\"], perfect_factors=state[\"perfect_factors\"])\n",
        "    response = model.with_structured_output(Solutions).invoke(prompt)\n",
        "    return {\"solutions\": response.solutions}\n",
        "\n",
        "def evaluate_solution(state: SolutionState):\n",
        "    prompt = step2_prompt.format(solutions=state[\"solution\"])\n",
        "    response = model.with_structured_output(Review).invoke(prompt)\n",
        "    return {\"reviews\": [response.review]}\n",
        "\n",
        "def deepen_thought(state: SolutionState):\n",
        "    prompt = step3_prompt.format(review=state[\"solution\"])\n",
        "    response = model.with_structured_output(DeepThought).invoke(prompt)\n",
        "    return {\"deep_thoughts\": [response.deep_thought]}\n",
        "\n",
        "def rank_solutions(state: OverallState):\n",
        "    deep_thoughts = \"\\n\\n\".join(state[\"deep_thoughts\"])\n",
        "    prompt = step4_prompt.format(deepen_thought_process=deep_thoughts)\n",
        "    response = model.with_structured_output(RankedSolutions).invoke(prompt)\n",
        "    return {\"ranked_solutions\": response.ranked_solutions}\n",
        "\n",
        "# Define the mapping logic\n",
        "def continue_to_evaluation(state: OverallState):\n",
        "    return [Send(\"evaluate_solution\", {\"solution\": s}) for s in state[\"solutions\"]]\n",
        "\n",
        "def continue_to_deep_thought(state: OverallState):\n",
        "    return [Send(\"deepen_thought\", {\"solution\": r}) for r in state[\"reviews\"]]"
      ],
      "metadata": {
        "id": "JUbEPQunLSA1"
      },
      "execution_count": 12,
      "outputs": []
    },
    {
      "cell_type": "code",
      "source": [
        "# Construct the graph\n",
        "graph = StateGraph(OverallState)\n",
        "\n",
        "graph.add_node(\"generate_solutions\", generate_solutions)\n",
        "graph.add_node(\"evaluate_solution\", evaluate_solution)\n",
        "graph.add_node(\"deepen_thought\", deepen_thought)\n",
        "graph.add_node(\"rank_solutions\", rank_solutions)\n",
        "\n",
        "graph.add_edge(START, \"generate_solutions\")\n",
        "graph.add_conditional_edges(\"generate_solutions\", continue_to_evaluation, [\"evaluate_solution\"])\n",
        "graph.add_conditional_edges(\"evaluate_solution\", continue_to_deep_thought, [\"deepen_thought\"])\n",
        "graph.add_edge(\"deepen_thought\", \"rank_solutions\")\n",
        "graph.add_edge(\"rank_solutions\", END)"
      ],
      "metadata": {
        "id": "lljoVKA2LVsq"
      },
      "execution_count": 13,
      "outputs": []
    },
    {
      "cell_type": "code",
      "source": [
        "app = graph.compile()"
      ],
      "metadata": {
        "id": "fCjMG4jyLofG"
      },
      "execution_count": 14,
      "outputs": []
    },
    {
      "cell_type": "code",
      "source": [
        "# Call the graph\n",
        "for s in app.stream({\n",
        "    \"input\": \"improving public transportation in a growing city\",\n",
        "    \"perfect_factors\": \"cost, efficiency, environmental impact, and user experience\"\n",
        "}):\n",
        "    print(s)"
      ],
      "metadata": {
        "colab": {
          "base_uri": "https://localhost:8080/"
        },
        "id": "5Wb7_nrXLrEV",
        "outputId": "69338cd3-add8-459a-abe2-0c0764fef3ff"
      },
      "execution_count": 15,
      "outputs": [
        {
          "output_type": "stream",
          "name": "stdout",
          "text": [
            "{'generate_solutions': {'solutions': ['Implement a Bus Rapid Transit (BRT) system that features dedicated bus lanes, priority signaling, and efficient transfer stations. This solution is cost-effective and can be deployed relatively quickly compared to rail systems, improving overall public transport efficiency while reducing emissions by promoting bus usage over individual car travel.', 'Introduce a bike-sharing program integrated with public transportation, allowing users to easily transition between bikes and buses or trains. This promotes a healthier lifestyle, reduces congestion, and lowers environmental impact, while also enhancing user experience by providing more flexible commuting options.', 'Expand the existing subway or light rail system with new lines and stations in underserved areas, coupled with modernized ticketing systems (like mobile apps and contactless payments). While this requires significant investment, it can greatly improve accessibility, reduce travel times, and encourage public transport use over personal vehicles, leading to a greener city.']}}\n",
            "{'evaluate_solution': {'reviews': ['### Solution 1: Expand Existing Subway or Light Rail System\\n\\n**Potential Evaluation:**\\nExpanding the existing subway or light rail system can significantly improve public transport accessibility in underserved areas. Coupling this expansion with modernized ticketing systems like mobile apps and contactless payments can enhance user experience and convenience.\\n\\n**Pros:**\\n- **Improved Accessibility:** New lines and stations would serve underserved communities, making public transport more accessible.\\n- **Reduced Travel Times:** More efficient routes can decrease overall travel times for commuters.\\n- **Environmental Benefits:** Encouraging public transport use can lead to reduced traffic congestion and lower emissions.\\n- **Modernized Experience:** Upgraded ticketing systems can streamline the process for users.\\n\\n**Cons:**\\n- **High Initial Investment:** Expanding infrastructure requires substantial capital investment.\\n- **Long Implementation Time:** Construction and planning phases can take several years.\\n- **Disruption During Construction:** Existing services may be disrupted during the expansion process.\\n\\n**Initial Effort Needed:**\\n- Significant planning and funding efforts are needed, alongside community buy-in and environmental assessments.\\n\\n**Implementation Difficulty:**\\n- **Medium to High:** Requires coordination with multiple stakeholders including city planners, engineers, and the community.\\n\\n**Potential Challenges:**\\n- **Funding:** Securing funding can be challenging, especially in tight budgets.\\n- **Community Opposition:** There may be resistance from communities affected by construction or changes in transport routes.\\n- **Regulatory Hurdles:** Navigating city regulations and obtaining necessary approvals can slow progress.\\n\\n**Expected Outcomes:**\\n- Increased public transport usage.\\n- Enhanced mobility for underserved populations.\\n- Economic growth in newly accessible areas.\\n\\n**Probability of Success:**\\n- **70%** - Given adequate funding and community support, the expansion is likely to succeed.\\n\\n**Confidence Level:**\\n- **High** - Proven models exist in other cities, and demand for public transport is growing.']}}\n",
            "{'evaluate_solution': {'reviews': ['**Solution 1: Bike-Sharing Program**\\n\\n**Potential Evaluation:**  \\nImplementing a bike-sharing program integrated with public transportation offers numerous advantages but comes with its own set of challenges. \\n\\n**Pros:**  \\n- Promotes a healthier lifestyle as users are encouraged to cycle.  \\n- Reduces traffic congestion in urban areas by providing an alternative mode of transport.  \\n- Lowers environmental impact by decreasing reliance on cars.  \\n- Enhances user experience by offering flexible commuting options, making it easier for users to combine biking with public transport.  \\n- Can increase ridership of public transport by providing a last-mile solution.  \\n\\n**Cons:**  \\n- Initial capital investment required for bikes, docking stations, and technology development (app, GPS, etc.).  \\n- Ongoing maintenance costs for the bike fleet and docking stations.  \\n- Potential issues with bike theft or vandalism.  \\n- Need for user education and marketing to encourage adoption.  \\n- Requires coordination with public transportation authorities.  \\n\\n**Initial Effort Needed:**  \\n- High initial effort due to the need for infrastructure development, partnerships with local transportation authorities, and marketing campaigns to promote the program.  \\n\\n**Implementation Difficulty:**  \\n- Moderate to high implementation difficulty, as it involves multiple stakeholders, regulatory considerations, and logistical planning.  \\n\\n**Potential Challenges:**  \\n- Ensuring sufficient bike availability and distribution across urban areas.  \\n- Addressing user safety concerns and ensuring proper bike maintenance.  \\n- Creating an effective user-friendly app and payment system.  \\n\\n**Expected Outcomes:**  \\n- Increased use of bicycles for short-distance travel, leading to improved public health metrics.  \\n- Reduction in vehicular traffic and carbon emissions.  \\n- Greater integration of transportation options, leading to increased public transport usage.  \\n\\n**Probability of Success:**  \\n- 75%  \\n\\n**Confidence Level:**  \\n- High  \\n  \\nOverall, the bike-sharing program presents a viable solution with strong potential benefits, though it will require careful planning and management to ensure successful implementation.']}}\n",
            "{'evaluate_solution': {'reviews': ['### Evaluation of Implementing a Bus Rapid Transit (BRT) System\\n\\n#### Pros:\\n1. **Cost-Effective**: Generally, BRT systems require lower investment compared to rail systems, making them financially feasible.\\n2. **Quick Implementation**: They can be deployed relatively quickly, addressing immediate public transport needs.\\n3. **Dedicated Lanes**: The use of dedicated bus lanes reduces congestion and improves travel times.\\n4. **Environmental Benefits**: Promotes public transport usage, potentially reducing individual car travel and emissions.\\n5. **Flexibility**: BRT systems can adapt to changing urban environments and passenger demand.\\n\\n#### Cons:\\n1. **Limited Capacity**: BRT systems may not handle as many passengers as rail systems, which could be a limitation in high-demand areas.\\n2. **Public Resistance**: Some communities may be resistant to changes in traffic patterns and the removal of lanes for buses.\\n3. **Maintenance**: Ongoing maintenance of dedicated lanes and infrastructure can be a challenge.\\n\\n#### Initial Effort Needed:\\n- Conducting feasibility studies and route planning will require initial investment of time and resources.\\n- Community engagement and public consultations will be essential to gauge public opinion and gain support.\\n\\n#### Implementation Difficulty:\\n- Moderate; while the infrastructure is simpler than rail systems, coordination with various stakeholders (government, public, private) can complicate execution.\\n\\n#### Potential Challenges:\\n1. **Funding**: Securing adequate funding for both initial setup and ongoing operational costs.\\n2. **Integration**: Ensuring seamless integration with existing transport systems and infrastructure.\\n3. **Traffic Management**: Mitigating potential backlash from the general public regarding changes in road use.\\n\\n#### Expected Outcomes:\\n- Improved public transport efficiency and increased ridership.\\n- Reduction in travel times and congestion, leading to a more attractive public transport option.\\n- Environmental improvements through decreased emissions.\\n\\n#### Probability of Success: 70%  \\n- Given the cost-effectiveness and speed of implementation, along with examples from other cities showing success, the probability is moderately high.\\n\\n#### Confidence Level: Medium  \\n- Confidence is medium due to potential community resistance and the importance of proper execution and funding.']}}\n",
            "{'deepen_thought': {'deep_thoughts': ['Step 3: For each solution, deepen the thought process. \\nExpand Existing Subway or Light Rail System: \\n\\nPotential Scenarios: \\n1. **Scenario A:** A city decides to expand its subway system to include low-income neighborhoods, leading to a significant increase in public transport ridership. \\n2. **Scenario B:** During the expansion, unforeseen geological issues arise, causing delays and budget overruns. \\n3. **Scenario C:** The community actively supports the project, leading to a successful fundraising campaign that garners additional resources.  \\n\\nStrategies for Implementation: \\n1. **Stakeholder Engagement:** Organize community meetings to gather input and build support. \\n2. **Phased Development:** Implement the expansion in phases to minimize disruption and allow for assessment at each stage. \\n3. **Public-Private Partnerships:** Collaborate with private entities to share the financial burden and leverage expertise in construction and technology. \\n\\nNecessary Partnerships and Resources: \\n1. **Government Grants:** Seek federal and state transportation grants to offset costs. \\n2. **Local Businesses:** Partner with local businesses for sponsorship opportunities, especially those that will benefit from increased foot traffic. \\n3. **NGOs:** Work with non-profit organizations focused on urban development and transportation equity to ensure underserved communities are prioritized.  \\n\\nOvercoming Potential Obstacles: \\n1. **Funding Shortfalls:** Create a diversified funding strategy that includes grants, public-private partnerships, and community fundraising. \\n2. **Community Opposition:** Address concerns through transparent communication and by incorporating community feedback into the project design. \\n3. **Regulatory Delays:** Hire experienced consultants to navigate regulatory requirements efficiently and ensure compliance with all local laws.  \\n\\nUnexpected Outcomes and Handling: \\n1. **Increased Property Values:** Rising property values in newly accessible areas could lead to gentrification. Strategies to handle this could include affordable housing initiatives. \\n2. **Shift in Demographics:** Changes in the population dynamics of neighborhoods may lead to cultural shifts. Engaging community leaders early on can help address and bridge any cultural divides. \\n3. **Technological Challenges:** If the upgraded ticketing systems encounter issues, having a robust customer service plan and alternative payment options will be crucial to maintaining user trust.']}}\n",
            "{'deepen_thought': {'deep_thoughts': ['To deepen the evaluation of implementing a Bus Rapid Transit (BRT) system, we can explore several scenarios and strategies for overcoming obstacles while maximizing the potential benefits. \\n\\n### Potential Scenarios:\\n1. **High-Demand Urban Areas**: In cities with dense populations and high traffic congestion, a BRT system can significantly alleviate pressure on existing transport networks. The focus here would be on creating high-capacity routes.\\n\\n2. **Suburban Expansion**: For suburban areas, a BRT system can connect communities to urban centers, facilitating easier access to jobs and services, thus promoting economic growth.\\n\\n3. **Integration with Other Transport Modes**: Creating a seamless network that connects BRT with metro systems, bike-sharing programs, and pedestrian pathways can enhance overall public transport efficiency.\\n\\n### Strategies for Implementation:\\n1. **Piloting and Phased Implementation**: Starting with a pilot route can help gauge public response and make adjustments before a full rollout. This phased approach allows for incremental investment and reduces risk.\\n   - **Partnerships Needed**: Collaborate with local governments, transport agencies, and community organizations.\\n\\n2. **Public Engagement Campaigns**: Actively involve the community through workshops, surveys, and feedback sessions to address concerns and gather input, fostering a sense of ownership among residents.\\n   - **Resources Required**: Social media, local media, and community centers for outreach.\\n\\n3. **Funding Initiatives**: Explore diverse funding sources, including federal grants, public-private partnerships, and transit-oriented development projects that may generate revenue.\\n   - **Partnerships Needed**: Engage with businesses and developers for potential sponsorships or joint ventures.\\n\\n### Overcoming Potential Obstacles:\\n1. **Public Resistance**: Address community concerns by presenting data on the benefits of BRT systems, such as reduced congestion and improved air quality. Involving local leaders and influencers can also help sway public opinion.\\n   - **Unexpected Outcome**: If community resistance is stronger than anticipated, consider revising plans based on feedback and implementing compromises, such as temporary bus lanes during peak hours.\\n\\n2. **Funding Challenges**: If initial funding falls short, seek alternative revenue streams, such as advertising on BRT vehicles or stations, or implementing a small congestion charge for vehicles in high-traffic areas.\\n   - **Unexpected Outcome**: A successful marketing campaign could lead to increased ridership, generating additional fare revenue that can be reinvested into the system.\\n\\n3. **Maintenance Issues**: Develop a long-term maintenance plan that includes regular assessments of infrastructure and a dedicated budget for upkeep. Engaging local contractors for maintenance work can also stimulate the local economy.\\n   - **Unexpected Outcome**: If maintenance costs are higher than expected, consider establishing a volunteer program for community members to help with minor upkeep, fostering community involvement.\\n\\n### Conclusion:\\nBy anticipating various scenarios and potential challenges, and by implementing adaptive strategies, a BRT system can be effectively integrated into urban transport networks. The key to success lies in collaboration, community engagement, and sustainable funding solutions.']}}\n",
            "{'deepen_thought': {'deep_thoughts': ['Step 3: Deepening the thought process for the bike-sharing program. \\n\\n**Potential Scenarios:**  \\n1. **High Adoption Scenario:** The program is well-received, leading to a significant increase in users. In this case, additional bikes and docking stations would need to be introduced quickly to accommodate demand.  \\n2. **Low Adoption Scenario:** If the program fails to attract users initially, strategies to boost engagement through discounts, partnerships with local businesses, or community events may be necessary.  \\n3. **Seasonal Variability:** Usage may peak during certain seasons (e.g., summer) and decline in others (e.g., winter). Strategies could include seasonal pricing models or partnerships with indoor facilities to maintain year-round engagement.  \\n\\n**Strategies for Implementation:**  \\n- **Pilot Program:** Launch a small-scale pilot in a specific urban area to test feasibility and gather user feedback.  \\n- **Marketing Campaigns:** Collaborate with local influencers or organizations to promote the program, emphasizing health and environmental benefits.  \\n- **Partnerships:** Work with local businesses, universities, and community organizations to promote the program and offer discounts or incentives for users.  \\n- **Technology Development:** Invest in a user-friendly app that provides real-time bike availability, booking capabilities, and payment options, ensuring a seamless user experience.  \\n\\n**Necessary Partnerships or Resources:**  \\n- **Public Transportation Authorities:** Collaborate on integrated ticketing systems and shared infrastructure.  \\n- **Local Governments:** Secure permits and support for bike lanes and docking stations.  \\n- **Technology Partners:** Engage with tech firms to develop the app and management systems.  \\n- **Community Organizations:** Involve local organizations in outreach efforts to promote usage among residents.  \\n\\n**Potential Obstacles and Solutions:**  \\n- **Theft/Vandalism:** Implement GPS tracking for bikes, establish a reporting system, and work with local law enforcement to address issues.  \\n- **Maintenance Challenges:** Develop a regular maintenance schedule and establish partnerships with local bike repair shops or hire a dedicated maintenance team.  \\n- **User Safety Concerns:** Implement safety campaigns, provide education on bike safety, and improve cycling infrastructure (e.g., bike lanes) in collaboration with local authorities.  \\n\\n**Potential Unexpected Outcomes:**  \\n- **Community Engagement:** Increased community interaction and bonding as users share experiences, leading to a stronger local cycling culture.  \\n- **Economic Impact:** Boost in local businesses as bike users frequent nearby shops and restaurants.  \\n- **Environmental Awareness:** Heightened awareness of environmental issues and sustainable transport options in the community.  \\n\\n**Handling Unexpected Outcomes:**  \\n- **Engagement Initiatives:** If community engagement increases, consider creating community events or cycling groups to maintain momentum.  \\n- **Supporting Local Businesses:** Facilitate partnerships with local businesses to create cycling promotions, benefiting both the program and local economy.  \\n- **Environmental Programs:** Leverage increased awareness to promote further sustainability initiatives, such as tree planting or clean-up events to enhance community involvement.']}}\n",
            "{'rank_solutions': {'ranked_solutions': '1. Bus Rapid Transit (BRT) System\\n   - **Justification**: BRT systems are flexible, cost-effective, and can be implemented quickly compared to rail systems. They have shown significant success in reducing congestion and improving air quality in urban areas. The phased implementation strategy allows for adjustments based on community feedback, making it a promising solution for urban transport.\\n   - **Final Thoughts**: Strong community engagement and diverse funding strategies will be essential for overcoming potential obstacles and ensuring long-term success.\\n\\n2. Bike-Sharing Program\\n   - **Justification**: Promoting cycling through a bike-sharing program can significantly reduce traffic congestion and improve public health. The potential for community engagement and partnerships with local businesses adds to its promise. The pilot program allows for initial testing and adaptation based on user feedback, which is a strong approach to implementation.\\n   - **Final Thoughts**: The program’s success hinges on effective marketing and partnerships to enhance user adoption and sustain growth throughout the year.\\n\\n3. Expansion of Existing Subway or Light Rail System\\n   - **Justification**: Expanding existing systems can lead to increased ridership and better connectivity for underserved neighborhoods. However, the risks associated with funding shortfalls and potential regulatory delays make it less promising compared to BRT and bike-sharing solutions. While it has long-term benefits, the complexity of implementation could hinder immediate results.\\n   - **Final Thoughts**: Clear communication and stakeholder engagement will be vital in navigating community opposition and ensuring project alignment with local needs.\\n'}}\n"
          ]
        }
      ]
    },
    {
      "cell_type": "code",
      "source": [
        "from pprint import pprint"
      ],
      "metadata": {
        "id": "rro5afKQMQdX"
      },
      "execution_count": 18,
      "outputs": []
    },
    {
      "cell_type": "code",
      "source": [
        "pprint(s)"
      ],
      "metadata": {
        "colab": {
          "base_uri": "https://localhost:8080/"
        },
        "id": "6oJy6XJyMSAo",
        "outputId": "95d73434-1427-431b-8227-5adc1ab4e418"
      },
      "execution_count": 19,
      "outputs": [
        {
          "output_type": "stream",
          "name": "stdout",
          "text": [
            "{'rank_solutions': {'ranked_solutions': '1. Bus Rapid Transit (BRT) System\\n'\n",
            "                                        '   - **Justification**: BRT systems '\n",
            "                                        'are flexible, cost-effective, and can '\n",
            "                                        'be implemented quickly compared to '\n",
            "                                        'rail systems. They have shown '\n",
            "                                        'significant success in reducing '\n",
            "                                        'congestion and improving air quality '\n",
            "                                        'in urban areas. The phased '\n",
            "                                        'implementation strategy allows for '\n",
            "                                        'adjustments based on community '\n",
            "                                        'feedback, making it a promising '\n",
            "                                        'solution for urban transport.\\n'\n",
            "                                        '   - **Final Thoughts**: Strong '\n",
            "                                        'community engagement and diverse '\n",
            "                                        'funding strategies will be essential '\n",
            "                                        'for overcoming potential obstacles '\n",
            "                                        'and ensuring long-term success.\\n'\n",
            "                                        '\\n'\n",
            "                                        '2. Bike-Sharing Program\\n'\n",
            "                                        '   - **Justification**: Promoting '\n",
            "                                        'cycling through a bike-sharing '\n",
            "                                        'program can significantly reduce '\n",
            "                                        'traffic congestion and improve public '\n",
            "                                        'health. The potential for community '\n",
            "                                        'engagement and partnerships with '\n",
            "                                        'local businesses adds to its promise. '\n",
            "                                        'The pilot program allows for initial '\n",
            "                                        'testing and adaptation based on user '\n",
            "                                        'feedback, which is a strong approach '\n",
            "                                        'to implementation.\\n'\n",
            "                                        '   - **Final Thoughts**: The '\n",
            "                                        'program’s success hinges on effective '\n",
            "                                        'marketing and partnerships to enhance '\n",
            "                                        'user adoption and sustain growth '\n",
            "                                        'throughout the year.\\n'\n",
            "                                        '\\n'\n",
            "                                        '3. Expansion of Existing Subway or '\n",
            "                                        'Light Rail System\\n'\n",
            "                                        '   - **Justification**: Expanding '\n",
            "                                        'existing systems can lead to '\n",
            "                                        'increased ridership and better '\n",
            "                                        'connectivity for underserved '\n",
            "                                        'neighborhoods. However, the risks '\n",
            "                                        'associated with funding shortfalls '\n",
            "                                        'and potential regulatory delays make '\n",
            "                                        'it less promising compared to BRT and '\n",
            "                                        'bike-sharing solutions. While it has '\n",
            "                                        'long-term benefits, the complexity of '\n",
            "                                        'implementation could hinder immediate '\n",
            "                                        'results.\\n'\n",
            "                                        '   - **Final Thoughts**: Clear '\n",
            "                                        'communication and stakeholder '\n",
            "                                        'engagement will be vital in '\n",
            "                                        'navigating community opposition and '\n",
            "                                        'ensuring project alignment with local '\n",
            "                                        'needs.\\n'}}\n"
          ]
        }
      ]
    },
    {
      "cell_type": "code",
      "source": [
        "from IPython.display import Image\n",
        "\n",
        "Image(app.get_graph().draw_mermaid_png())"
      ],
      "metadata": {
        "colab": {
          "base_uri": "https://localhost:8080/",
          "height": 488
        },
        "id": "TCiWVGEULzWG",
        "outputId": "78725846-3a4d-4c4f-bbd3-c9d188e001ef"
      },
      "execution_count": 16,
      "outputs": [
        {
          "output_type": "execute_result",
          "data": {
            "image/jpeg": "[encoded data removed]",
            "text/plain": [
              "<IPython.core.display.Image object>"
            ]
          },
          "metadata": {},
          "execution_count": 16
        }
      ]
    },
    {
      "cell_type": "code",
      "source": [],
      "metadata": {
        "id": "w0d6qKGSMBcD"
      },
      "execution_count": null,
      "outputs": []
    }
  ]
}